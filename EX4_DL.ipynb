{
  "cells": [
    {
      "cell_type": "code",
      "execution_count": null,
      "metadata": {
        "id": "POuRHOIcP3su"
      },
      "outputs": [],
      "source": [
        "import tensorflow as tf\n",
        "from tensorflow.keras.datasets import cifar10\n",
        "from tensorflow.keras.applications import VGG19\n",
        "from tensorflow.keras.models import Sequential\n",
        "from tensorflow.keras.layers import Dense, Flatten, Dropout\n",
        "from tensorflow.keras.optimizers import Adam\n",
        "from tensorflow.keras.callbacks import ReduceLROnPlateau"
      ]
    },
    {
      "cell_type": "code",
      "execution_count": null,
      "metadata": {
        "id": "FwrKv0LEVLPA"
      },
      "outputs": [],
      "source": [
        "(x_train,y_train),(x_test,y_test)=cifar10.load_data()"
      ]
    },
    {
      "cell_type": "code",
      "execution_count": null,
      "metadata": {
        "id": "OAWJA27sVdm1"
      },
      "outputs": [],
      "source": [
        "x_train = x_train.astype('float32') / 255.0\n",
        "x_test = x_test.astype('float32') / 255.0"
      ]
    },
    {
      "cell_type": "code",
      "execution_count": null,
      "metadata": {
        "id": "_huP_dF0XS49"
      },
      "outputs": [],
      "source": [
        "base_model = VGG19(include_top=False, weights = \"imagenet\",\n",
        "                   input_shape = (32,32,3))\n",
        "\n"
      ]
    },
    {
      "cell_type": "code",
      "execution_count": null,
      "metadata": {
        "id": "f-lox_TkX_ec"
      },
      "outputs": [],
      "source": [
        "for layer in base_model.layers:\n",
        "  layer.trainable = False"
      ]
    },
    {
      "cell_type": "code",
      "execution_count": null,
      "metadata": {
        "id": "piu1PbR1YNA7"
      },
      "outputs": [],
      "source": [
        "model = Sequential()\n",
        "model.add(base_model)\n",
        "model.add(Flatten())\n",
        "model.add(Dense(256,activation=(\"relu\")))\n",
        "model.add(Dropout(0.5))\n",
        "model.add(Dense(10,activation=(\"softmax\")))\n",
        "\n",
        "          "
      ]
    },
    {
      "cell_type": "code",
      "execution_count": null,
      "metadata": {
        "id": "jv4otx9yrSZg",
        "colab": {
          "base_uri": "https://localhost:8080/"
        },
        "outputId": "33978514-72c8-430a-92c8-9dad90fc44e0"
      },
      "outputs": [
        {
          "output_type": "stream",
          "name": "stdout",
          "text": [
            "Model: \"sequential_3\"\n",
            "_________________________________________________________________\n",
            " Layer (type)                Output Shape              Param #   \n",
            "=================================================================\n",
            " vgg19 (Functional)          (None, 1, 1, 512)         20024384  \n",
            "                                                                 \n",
            " flatten_3 (Flatten)         (None, 512)               0         \n",
            "                                                                 \n",
            " dense_11 (Dense)            (None, 256)               131328    \n",
            "                                                                 \n",
            " dropout (Dropout)           (None, 256)               0         \n",
            "                                                                 \n",
            " dense_12 (Dense)            (None, 10)                2570      \n",
            "                                                                 \n",
            "=================================================================\n",
            "Total params: 20,158,282\n",
            "Trainable params: 133,898\n",
            "Non-trainable params: 20,024,384\n",
            "_________________________________________________________________\n"
          ]
        }
      ],
      "source": [
        "model.summary()"
      ]
    },
    {
      "cell_type": "code",
      "execution_count": null,
      "metadata": {
        "id": "diM4WYahZNoj"
      },
      "outputs": [],
      "source": [
        "model.compile(optimizer=Adam(learning_rate=0.001), loss='sparse_categorical_crossentropy', metrics=['accuracy'])"
      ]
    },
    {
      "cell_type": "code",
      "execution_count": null,
      "metadata": {
        "id": "K_lBKlmdZ6xs"
      },
      "outputs": [],
      "source": [
        "learning_rate_reduction = ReduceLROnPlateau(monitor='val_accuracy', patience=3, verbose=1, factor=0.5, min_lr=0.00001)"
      ]
    },
    {
      "cell_type": "code",
      "execution_count": null,
      "metadata": {
        "id": "bdQlXzcvaOOc",
        "colab": {
          "base_uri": "https://localhost:8080/"
        },
        "outputId": "841405c9-b8dc-4ecd-989f-3c01a99141d8"
      },
      "outputs": [
        {
          "output_type": "stream",
          "name": "stdout",
          "text": [
            "Epoch 1/50\n",
            "782/782 [==============================] - 14s 17ms/step - loss: 1.2318 - accuracy: 0.5663 - val_loss: 1.1900 - val_accuracy: 0.5806 - lr: 0.0010\n",
            "Epoch 2/50\n",
            "782/782 [==============================] - 14s 17ms/step - loss: 1.2142 - accuracy: 0.5736 - val_loss: 1.2047 - val_accuracy: 0.5760 - lr: 0.0010\n",
            "Epoch 3/50\n",
            "782/782 [==============================] - 14s 18ms/step - loss: 1.1973 - accuracy: 0.5799 - val_loss: 1.1763 - val_accuracy: 0.5835 - lr: 0.0010\n",
            "Epoch 4/50\n",
            "782/782 [==============================] - 14s 18ms/step - loss: 1.1845 - accuracy: 0.5840 - val_loss: 1.1635 - val_accuracy: 0.5902 - lr: 0.0010\n",
            "Epoch 5/50\n",
            "782/782 [==============================] - 13s 17ms/step - loss: 1.1677 - accuracy: 0.5891 - val_loss: 1.1745 - val_accuracy: 0.5877 - lr: 0.0010\n",
            "Epoch 6/50\n",
            "782/782 [==============================] - 13s 17ms/step - loss: 1.1585 - accuracy: 0.5926 - val_loss: 1.1531 - val_accuracy: 0.5956 - lr: 0.0010\n",
            "Epoch 7/50\n",
            "782/782 [==============================] - 13s 17ms/step - loss: 1.1438 - accuracy: 0.5965 - val_loss: 1.1527 - val_accuracy: 0.5970 - lr: 0.0010\n",
            "Epoch 8/50\n",
            "782/782 [==============================] - 13s 17ms/step - loss: 1.1356 - accuracy: 0.5988 - val_loss: 1.1342 - val_accuracy: 0.6056 - lr: 0.0010\n",
            "Epoch 9/50\n",
            "782/782 [==============================] - 14s 18ms/step - loss: 1.1234 - accuracy: 0.6036 - val_loss: 1.1457 - val_accuracy: 0.6033 - lr: 0.0010\n",
            "Epoch 10/50\n",
            "782/782 [==============================] - 13s 17ms/step - loss: 1.1167 - accuracy: 0.6041 - val_loss: 1.1365 - val_accuracy: 0.6032 - lr: 0.0010\n",
            "Epoch 11/50\n",
            "779/782 [============================>.] - ETA: 0s - loss: 1.1045 - accuracy: 0.6126\n",
            "Epoch 11: ReduceLROnPlateau reducing learning rate to 0.0005000000237487257.\n",
            "782/782 [==============================] - 14s 17ms/step - loss: 1.1045 - accuracy: 0.6125 - val_loss: 1.1403 - val_accuracy: 0.6028 - lr: 0.0010\n",
            "Epoch 12/50\n",
            "782/782 [==============================] - 14s 17ms/step - loss: 1.0659 - accuracy: 0.6259 - val_loss: 1.1236 - val_accuracy: 0.6088 - lr: 5.0000e-04\n",
            "Epoch 13/50\n",
            "782/782 [==============================] - 14s 18ms/step - loss: 1.0501 - accuracy: 0.6295 - val_loss: 1.1170 - val_accuracy: 0.6126 - lr: 5.0000e-04\n",
            "Epoch 14/50\n",
            "782/782 [==============================] - 14s 18ms/step - loss: 1.0446 - accuracy: 0.6328 - val_loss: 1.1170 - val_accuracy: 0.6119 - lr: 5.0000e-04\n",
            "Epoch 15/50\n",
            "782/782 [==============================] - 14s 18ms/step - loss: 1.0366 - accuracy: 0.6330 - val_loss: 1.1174 - val_accuracy: 0.6119 - lr: 5.0000e-04\n",
            "Epoch 16/50\n",
            "780/782 [============================>.] - ETA: 0s - loss: 1.0290 - accuracy: 0.6371\n",
            "Epoch 16: ReduceLROnPlateau reducing learning rate to 0.0002500000118743628.\n",
            "782/782 [==============================] - 14s 18ms/step - loss: 1.0292 - accuracy: 0.6369 - val_loss: 1.1181 - val_accuracy: 0.6114 - lr: 5.0000e-04\n",
            "Epoch 17/50\n",
            "782/782 [==============================] - 13s 17ms/step - loss: 1.0114 - accuracy: 0.6454 - val_loss: 1.1101 - val_accuracy: 0.6120 - lr: 2.5000e-04\n",
            "Epoch 18/50\n",
            "782/782 [==============================] - 14s 18ms/step - loss: 1.0038 - accuracy: 0.6460 - val_loss: 1.1090 - val_accuracy: 0.6187 - lr: 2.5000e-04\n",
            "Epoch 19/50\n",
            "782/782 [==============================] - 14s 18ms/step - loss: 0.9967 - accuracy: 0.6490 - val_loss: 1.1084 - val_accuracy: 0.6175 - lr: 2.5000e-04\n",
            "Epoch 20/50\n",
            "782/782 [==============================] - 14s 18ms/step - loss: 0.9947 - accuracy: 0.6499 - val_loss: 1.1082 - val_accuracy: 0.6169 - lr: 2.5000e-04\n",
            "Epoch 21/50\n",
            "780/782 [============================>.] - ETA: 0s - loss: 0.9891 - accuracy: 0.6515\n",
            "Epoch 21: ReduceLROnPlateau reducing learning rate to 0.0001250000059371814.\n",
            "782/782 [==============================] - 14s 18ms/step - loss: 0.9889 - accuracy: 0.6515 - val_loss: 1.1083 - val_accuracy: 0.6163 - lr: 2.5000e-04\n",
            "Epoch 22/50\n",
            "782/782 [==============================] - 14s 18ms/step - loss: 0.9777 - accuracy: 0.6560 - val_loss: 1.1067 - val_accuracy: 0.6183 - lr: 1.2500e-04\n",
            "Epoch 23/50\n",
            "782/782 [==============================] - 13s 17ms/step - loss: 0.9743 - accuracy: 0.6581 - val_loss: 1.1068 - val_accuracy: 0.6176 - lr: 1.2500e-04\n",
            "Epoch 24/50\n",
            "782/782 [==============================] - 14s 18ms/step - loss: 0.9715 - accuracy: 0.6589 - val_loss: 1.1062 - val_accuracy: 0.6191 - lr: 1.2500e-04\n",
            "Epoch 25/50\n",
            "782/782 [==============================] - 14s 18ms/step - loss: 0.9692 - accuracy: 0.6603 - val_loss: 1.1042 - val_accuracy: 0.6195 - lr: 1.2500e-04\n",
            "Epoch 26/50\n",
            "782/782 [==============================] - 13s 17ms/step - loss: 0.9672 - accuracy: 0.6589 - val_loss: 1.1023 - val_accuracy: 0.6191 - lr: 1.2500e-04\n",
            "Epoch 27/50\n",
            "782/782 [==============================] - 13s 17ms/step - loss: 0.9651 - accuracy: 0.6624 - val_loss: 1.1041 - val_accuracy: 0.6219 - lr: 1.2500e-04\n",
            "Epoch 28/50\n",
            "782/782 [==============================] - 14s 17ms/step - loss: 0.9671 - accuracy: 0.6584 - val_loss: 1.1031 - val_accuracy: 0.6198 - lr: 1.2500e-04\n",
            "Epoch 29/50\n",
            "782/782 [==============================] - 14s 17ms/step - loss: 0.9597 - accuracy: 0.6623 - val_loss: 1.1059 - val_accuracy: 0.6154 - lr: 1.2500e-04\n",
            "Epoch 30/50\n",
            "780/782 [============================>.] - ETA: 0s - loss: 0.9615 - accuracy: 0.6612\n",
            "Epoch 30: ReduceLROnPlateau reducing learning rate to 6.25000029685907e-05.\n",
            "782/782 [==============================] - 14s 18ms/step - loss: 0.9616 - accuracy: 0.6611 - val_loss: 1.1054 - val_accuracy: 0.6165 - lr: 1.2500e-04\n",
            "Epoch 31/50\n",
            "782/782 [==============================] - 14s 18ms/step - loss: 0.9522 - accuracy: 0.6652 - val_loss: 1.1043 - val_accuracy: 0.6166 - lr: 6.2500e-05\n",
            "Epoch 32/50\n",
            "782/782 [==============================] - 14s 18ms/step - loss: 0.9538 - accuracy: 0.6652 - val_loss: 1.1027 - val_accuracy: 0.6203 - lr: 6.2500e-05\n",
            "Epoch 33/50\n",
            "782/782 [==============================] - ETA: 0s - loss: 0.9502 - accuracy: 0.6668\n",
            "Epoch 33: ReduceLROnPlateau reducing learning rate to 3.125000148429535e-05.\n",
            "782/782 [==============================] - 14s 17ms/step - loss: 0.9502 - accuracy: 0.6668 - val_loss: 1.1041 - val_accuracy: 0.6193 - lr: 6.2500e-05\n",
            "Epoch 34/50\n",
            "782/782 [==============================] - 14s 18ms/step - loss: 0.9479 - accuracy: 0.6662 - val_loss: 1.1041 - val_accuracy: 0.6195 - lr: 3.1250e-05\n",
            "Epoch 35/50\n",
            "782/782 [==============================] - 14s 17ms/step - loss: 0.9442 - accuracy: 0.6684 - val_loss: 1.1038 - val_accuracy: 0.6189 - lr: 3.1250e-05\n",
            "Epoch 36/50\n",
            "782/782 [==============================] - ETA: 0s - loss: 0.9467 - accuracy: 0.6670\n",
            "Epoch 36: ReduceLROnPlateau reducing learning rate to 1.5625000742147677e-05.\n",
            "782/782 [==============================] - 14s 17ms/step - loss: 0.9467 - accuracy: 0.6670 - val_loss: 1.1039 - val_accuracy: 0.6185 - lr: 3.1250e-05\n",
            "Epoch 37/50\n",
            "782/782 [==============================] - 14s 17ms/step - loss: 0.9452 - accuracy: 0.6669 - val_loss: 1.1039 - val_accuracy: 0.6186 - lr: 1.5625e-05\n",
            "Epoch 38/50\n",
            "782/782 [==============================] - 14s 18ms/step - loss: 0.9450 - accuracy: 0.6683 - val_loss: 1.1035 - val_accuracy: 0.6194 - lr: 1.5625e-05\n",
            "Epoch 39/50\n",
            "780/782 [============================>.] - ETA: 0s - loss: 0.9400 - accuracy: 0.6686\n",
            "Epoch 39: ReduceLROnPlateau reducing learning rate to 1e-05.\n",
            "782/782 [==============================] - 14s 18ms/step - loss: 0.9400 - accuracy: 0.6686 - val_loss: 1.1039 - val_accuracy: 0.6189 - lr: 1.5625e-05\n",
            "Epoch 40/50\n",
            "782/782 [==============================] - 14s 18ms/step - loss: 0.9391 - accuracy: 0.6716 - val_loss: 1.1037 - val_accuracy: 0.6200 - lr: 1.0000e-05\n",
            "Epoch 41/50\n",
            "782/782 [==============================] - 14s 18ms/step - loss: 0.9447 - accuracy: 0.6687 - val_loss: 1.1033 - val_accuracy: 0.6176 - lr: 1.0000e-05\n",
            "Epoch 42/50\n",
            "782/782 [==============================] - 14s 18ms/step - loss: 0.9382 - accuracy: 0.6715 - val_loss: 1.1038 - val_accuracy: 0.6182 - lr: 1.0000e-05\n",
            "Epoch 43/50\n",
            "782/782 [==============================] - 14s 18ms/step - loss: 0.9457 - accuracy: 0.6690 - val_loss: 1.1035 - val_accuracy: 0.6184 - lr: 1.0000e-05\n",
            "Epoch 44/50\n",
            "782/782 [==============================] - 14s 18ms/step - loss: 0.9407 - accuracy: 0.6708 - val_loss: 1.1039 - val_accuracy: 0.6184 - lr: 1.0000e-05\n",
            "Epoch 45/50\n",
            "782/782 [==============================] - 14s 18ms/step - loss: 0.9405 - accuracy: 0.6708 - val_loss: 1.1036 - val_accuracy: 0.6181 - lr: 1.0000e-05\n",
            "Epoch 46/50\n",
            "782/782 [==============================] - 14s 18ms/step - loss: 0.9415 - accuracy: 0.6680 - val_loss: 1.1037 - val_accuracy: 0.6191 - lr: 1.0000e-05\n",
            "Epoch 47/50\n",
            "782/782 [==============================] - 14s 18ms/step - loss: 0.9399 - accuracy: 0.6690 - val_loss: 1.1034 - val_accuracy: 0.6189 - lr: 1.0000e-05\n",
            "Epoch 48/50\n",
            "782/782 [==============================] - 14s 17ms/step - loss: 0.9471 - accuracy: 0.6657 - val_loss: 1.1036 - val_accuracy: 0.6187 - lr: 1.0000e-05\n",
            "Epoch 49/50\n",
            "782/782 [==============================] - 14s 18ms/step - loss: 0.9432 - accuracy: 0.6678 - val_loss: 1.1034 - val_accuracy: 0.6197 - lr: 1.0000e-05\n",
            "Epoch 50/50\n",
            "782/782 [==============================] - 14s 18ms/step - loss: 0.9424 - accuracy: 0.6680 - val_loss: 1.1040 - val_accuracy: 0.6185 - lr: 1.0000e-05\n"
          ]
        },
        {
          "output_type": "execute_result",
          "data": {
            "text/plain": [
              "<keras.callbacks.History at 0x7fafa604ec50>"
            ]
          },
          "metadata": {},
          "execution_count": 32
        }
      ],
      "source": [
        "model.fit(x_train, y_train, batch_size=64, epochs=50, validation_data=(x_test, y_test), callbacks=[learning_rate_reduction])"
      ]
    },
    {
      "cell_type": "code",
      "execution_count": null,
      "metadata": {
        "id": "6XlRc7XRbuEc"
      },
      "outputs": [],
      "source": [
        "import pandas as pd\n",
        "metrics = pd.DataFrame(model.history.history)"
      ]
    },
    {
      "cell_type": "code",
      "execution_count": null,
      "metadata": {
        "id": "ae78v4FqHoKb",
        "colab": {
          "base_uri": "https://localhost:8080/",
          "height": 448
        },
        "outputId": "8c3579c5-6063-4a32-b09f-eb38c850d223"
      },
      "outputs": [
        {
          "output_type": "execute_result",
          "data": {
            "text/plain": [
              "<Axes: >"
            ]
          },
          "metadata": {},
          "execution_count": 35
        },
        {
          "output_type": "display_data",
          "data": {
            "text/plain": [
              "<Figure size 640x480 with 1 Axes>"
            ],
            "image/png": "[encoded data removed]"
          },
          "metadata": {}
        }
      ],
      "source": [
        "metrics[['loss','val_loss']].plot()"
      ]
    },
    {
      "cell_type": "code",
      "execution_count": null,
      "metadata": {
        "id": "znkWGA9PrSZm",
        "colab": {
          "base_uri": "https://localhost:8080/",
          "height": 448
        },
        "outputId": "7b171024-83a4-4bdb-b32d-7e86ec1d5c51"
      },
      "outputs": [
        {
          "output_type": "execute_result",
          "data": {
            "text/plain": [
              "<Axes: >"
            ]
          },
          "metadata": {},
          "execution_count": 36
        },
        {
          "output_type": "display_data",
          "data": {
            "text/plain": [
              "<Figure size 640x480 with 1 Axes>"
            ],
            "image/png": "[encoded data removed]"
          },
          "metadata": {}
        }
      ],
      "source": [
        "metrics[['accuracy','val_accuracy']].plot()"
      ]
    },
    {
      "cell_type": "code",
      "execution_count": null,
      "metadata": {
        "id": "YPb8loIOcfL0"
      },
      "outputs": [],
      "source": [
        "from sklearn.metrics import classification_report,confusion_matrix"
      ]
    },
    {
      "cell_type": "code",
      "execution_count": null,
      "metadata": {
        "id": "CmYFzXlCc66c"
      },
      "outputs": [],
      "source": [
        "import numpy as np"
      ]
    },
    {
      "cell_type": "code",
      "execution_count": null,
      "metadata": {
        "id": "CFuljlYCrSZq",
        "colab": {
          "base_uri": "https://localhost:8080/"
        },
        "outputId": "21255813-763d-46b3-a1c5-07fa7576a543"
      },
      "outputs": [
        {
          "output_type": "stream",
          "name": "stdout",
          "text": [
            "313/313 [==============================] - 3s 9ms/step\n"
          ]
        }
      ],
      "source": [
        "x_test_predictions = np.argmax(model.predict(x_test), axis=1)"
      ]
    },
    {
      "cell_type": "code",
      "source": [
        "print(confusion_matrix(y_test,x_test_predictions))\n"
      ],
      "metadata": {
        "colab": {
          "base_uri": "https://localhost:8080/"
        },
        "id": "ZRbeCHBi1U5K",
        "outputId": "c3a95693-c857-4bc2-eabb-bb495bc697a3"
      },
      "execution_count": null,
      "outputs": [
        {
          "output_type": "stream",
          "name": "stdout",
          "text": [
            "[[706  26  48  24  20  11  14  16 100  35]\n",
            " [ 33 685  16  29  13  18  23  12  50 121]\n",
            " [ 63  21 501  78  92  69 100  31  25  20]\n",
            " [ 22  49  64 470  58 145  88  35  23  46]\n",
            " [ 22  15  76  77 535  42  94  94  29  16]\n",
            " [ 14  27  57 172  56 513  61  66   7  27]\n",
            " [ 10  22  56  53  65  43 713  11  14  13]\n",
            " [ 19  16  50  45  70  62  26 662   7  43]\n",
            " [ 79  60  23  18  13   3  10  10 734  50]\n",
            " [ 40 133   9  34   8  18  17  32  43 666]]\n"
          ]
        }
      ]
    },
    {
      "cell_type": "code",
      "source": [
        "print(classification_report(y_test,x_test_predictions))\n"
      ],
      "metadata": {
        "id": "CmFzUmql1bMa",
        "outputId": "8322e638-4841-472d-8fdb-df9cfbd59249",
        "colab": {
          "base_uri": "https://localhost:8080/"
        }
      },
      "execution_count": null,
      "outputs": [
        {
          "output_type": "stream",
          "name": "stdout",
          "text": [
            "              precision    recall  f1-score   support\n",
            "\n",
            "           0       0.70      0.71      0.70      1000\n",
            "           1       0.65      0.69      0.67      1000\n",
            "           2       0.56      0.50      0.53      1000\n",
            "           3       0.47      0.47      0.47      1000\n",
            "           4       0.58      0.54      0.55      1000\n",
            "           5       0.56      0.51      0.53      1000\n",
            "           6       0.62      0.71      0.66      1000\n",
            "           7       0.68      0.66      0.67      1000\n",
            "           8       0.71      0.73      0.72      1000\n",
            "           9       0.64      0.67      0.65      1000\n",
            "\n",
            "    accuracy                           0.62     10000\n",
            "   macro avg       0.62      0.62      0.62     10000\n",
            "weighted avg       0.62      0.62      0.62     10000\n",
            "\n"
          ]
        }
      ]
    },
    {
      "cell_type": "markdown",
      "metadata": {
        "id": "j3E9WX5ErSZq"
      },
      "source": []
    }
  ],
  "metadata": {
    "colab": {
      "provenance": [],
      "gpuType": "T4"
    },
    "kernelspec": {
      "display_name": "Python 3",
      "name": "python3"
    },
    "language_info": {
      "name": "python"
    },
    "accelerator": "GPU"
  },
  "nbformat": 4,
  "nbformat_minor": 0
}